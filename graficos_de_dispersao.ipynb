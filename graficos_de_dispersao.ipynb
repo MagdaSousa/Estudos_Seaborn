{
  "nbformat": 4,
  "nbformat_minor": 0,
  "metadata": {
    "colab": {
      "name": "graficos_de_dispersao.ipynb",
      "provenance": [],
      "authorship_tag": "ABX9TyOENR9hRCVYGG4Id9nnmtQ6",
      "include_colab_link": true
    },
    "kernelspec": {
      "name": "python3",
      "display_name": "Python 3"
    }
  },
  "cells": [
    {
      "cell_type": "markdown",
      "metadata": {
        "id": "view-in-github",
        "colab_type": "text"
      },
      "source": [
        "<a href=\"https://colab.research.google.com/github/MagdaSousa/Estudos_Seaborn/blob/main/graficos_de_dispersao.ipynb\" target=\"_parent\"><img src=\"https://colab.research.google.com/assets/colab-badge.svg\" alt=\"Open In Colab\"/></a>"
      ]
    },
    {
      "cell_type": "code",
      "metadata": {
        "id": "Zu79iWVkh2vq"
      },
      "source": [
        "import seaborn as sns\r\n",
        "import pandas as pd"
      ],
      "execution_count": 1,
      "outputs": []
    },
    {
      "cell_type": "code",
      "metadata": {
        "colab": {
          "base_uri": "https://localhost:8080/",
          "height": 355
        },
        "id": "VOmsajbOj9Gf",
        "outputId": "70958909-afe0-4cd3-cd24-6ea8dd2daae5"
      },
      "source": [
        "plano_saude = pd.read_csv(\"https://iaexpert.academy/wp-content/uploads/2019/11/plano_saude.csv\")\r\n",
        "plano_saude"
      ],
      "execution_count": 4,
      "outputs": [
        {
          "output_type": "execute_result",
          "data": {
            "text/html": [
              "<div>\n",
              "<style scoped>\n",
              "    .dataframe tbody tr th:only-of-type {\n",
              "        vertical-align: middle;\n",
              "    }\n",
              "\n",
              "    .dataframe tbody tr th {\n",
              "        vertical-align: top;\n",
              "    }\n",
              "\n",
              "    .dataframe thead th {\n",
              "        text-align: right;\n",
              "    }\n",
              "</style>\n",
              "<table border=\"1\" class=\"dataframe\">\n",
              "  <thead>\n",
              "    <tr style=\"text-align: right;\">\n",
              "      <th></th>\n",
              "      <th>idade</th>\n",
              "      <th>custo</th>\n",
              "      <th>genero</th>\n",
              "      <th>fumante</th>\n",
              "      <th>tamanho</th>\n",
              "    </tr>\n",
              "  </thead>\n",
              "  <tbody>\n",
              "    <tr>\n",
              "      <th>0</th>\n",
              "      <td>18</td>\n",
              "      <td>871</td>\n",
              "      <td>M</td>\n",
              "      <td>Sim</td>\n",
              "      <td>1</td>\n",
              "    </tr>\n",
              "    <tr>\n",
              "      <th>1</th>\n",
              "      <td>23</td>\n",
              "      <td>1132</td>\n",
              "      <td>M</td>\n",
              "      <td>Não</td>\n",
              "      <td>2</td>\n",
              "    </tr>\n",
              "    <tr>\n",
              "      <th>2</th>\n",
              "      <td>28</td>\n",
              "      <td>1242</td>\n",
              "      <td>F</td>\n",
              "      <td>Sim</td>\n",
              "      <td>3</td>\n",
              "    </tr>\n",
              "    <tr>\n",
              "      <th>3</th>\n",
              "      <td>33</td>\n",
              "      <td>1356</td>\n",
              "      <td>F</td>\n",
              "      <td>Sim</td>\n",
              "      <td>2</td>\n",
              "    </tr>\n",
              "    <tr>\n",
              "      <th>4</th>\n",
              "      <td>38</td>\n",
              "      <td>1488</td>\n",
              "      <td>M</td>\n",
              "      <td>Não</td>\n",
              "      <td>1</td>\n",
              "    </tr>\n",
              "    <tr>\n",
              "      <th>5</th>\n",
              "      <td>43</td>\n",
              "      <td>1638</td>\n",
              "      <td>F</td>\n",
              "      <td>Não</td>\n",
              "      <td>3</td>\n",
              "    </tr>\n",
              "    <tr>\n",
              "      <th>6</th>\n",
              "      <td>48</td>\n",
              "      <td>2130</td>\n",
              "      <td>M</td>\n",
              "      <td>Não</td>\n",
              "      <td>1</td>\n",
              "    </tr>\n",
              "    <tr>\n",
              "      <th>7</th>\n",
              "      <td>53</td>\n",
              "      <td>2454</td>\n",
              "      <td>F</td>\n",
              "      <td>Sim</td>\n",
              "      <td>2</td>\n",
              "    </tr>\n",
              "    <tr>\n",
              "      <th>8</th>\n",
              "      <td>58</td>\n",
              "      <td>3066</td>\n",
              "      <td>F</td>\n",
              "      <td>Não</td>\n",
              "      <td>3</td>\n",
              "    </tr>\n",
              "    <tr>\n",
              "      <th>9</th>\n",
              "      <td>63</td>\n",
              "      <td>4090</td>\n",
              "      <td>F</td>\n",
              "      <td>Sim</td>\n",
              "      <td>2</td>\n",
              "    </tr>\n",
              "  </tbody>\n",
              "</table>\n",
              "</div>"
            ],
            "text/plain": [
              "   idade  custo genero fumante  tamanho\n",
              "0     18    871      M     Sim        1\n",
              "1     23   1132      M     Não        2\n",
              "2     28   1242      F     Sim        3\n",
              "3     33   1356      F     Sim        2\n",
              "4     38   1488      M     Não        1\n",
              "5     43   1638      F     Não        3\n",
              "6     48   2130      M     Não        1\n",
              "7     53   2454      F     Sim        2\n",
              "8     58   3066      F     Não        3\n",
              "9     63   4090      F     Sim        2"
            ]
          },
          "metadata": {
            "tags": []
          },
          "execution_count": 4
        }
      ]
    },
    {
      "cell_type": "markdown",
      "metadata": {
        "id": "mLkJp53akkur"
      },
      "source": [
        "Gráficos de Dispersão"
      ]
    },
    {
      "cell_type": "markdown",
      "metadata": {
        "id": "mWhPAC8Fk3o2"
      },
      "source": [
        "Nota-se que conforme a idade aumenta o valor do plano de saúde aumenta."
      ]
    },
    {
      "cell_type": "code",
      "metadata": {
        "colab": {
          "base_uri": "https://localhost:8080/",
          "height": 383
        },
        "id": "7uXqbyylkkLP",
        "outputId": "0a8e73d9-6d23-4e4e-8589-f15f99bbb924"
      },
      "source": [
        "sns.relplot(x='custo',y='idade',data=plano_saude);\r\n",
        "#obs. se eu não colocar o ';' no final do comando ele exibe as informações do \r\n",
        "#seaborn'<seaborn.axisgrid.FacetGrid at 0x7f5d1a6a6dd0>', mas se eu  colocar elas somem..."
      ],
      "execution_count": 7,
      "outputs": [
        {
          "output_type": "display_data",
          "data": {
            "image/png": "[encoded data removed]",
            "text/plain": [
              "<Figure size 360x360 with 1 Axes>"
            ]
          },
          "metadata": {
            "tags": [],
            "needs_background": "light"
          }
        }
      ]
    },
    {
      "cell_type": "markdown",
      "metadata": {
        "id": "5AgoMSUMlEVg"
      },
      "source": [
        "Neste segundo gráfico passamos o parametro 'hue', que faz uma espécie de agrupamento e o identifica por cores, no caso estamos fazendo a mesma visualização do gráfico anterior porém agrupando por gênero.Ficando mais claro as características desse dataset.  \r\n",
        "Neste caso nota-se que o grupo com maior faixa etária é o de mulheres, e a maior quantidade também."
      ]
    },
    {
      "cell_type": "code",
      "metadata": {
        "colab": {
          "base_uri": "https://localhost:8080/",
          "height": 401
        },
        "id": "QuRFPVmXlDUd",
        "outputId": "3b2a10f0-f1cf-4657-cc7c-7af25fae1afd"
      },
      "source": [
        "sns.relplot(x='custo',y='idade',hue='genero',data=plano_saude);\r\n"
      ],
      "execution_count": 6,
      "outputs": [
        {
          "output_type": "execute_result",
          "data": {
            "text/plain": [
              "<seaborn.axisgrid.FacetGrid at 0x7f5d02803690>"
            ]
          },
          "metadata": {
            "tags": []
          },
          "execution_count": 6
        },
        {
          "output_type": "display_data",
          "data": {
            "image/png": "[encoded data removed]",
            "text/plain": [
              "<Figure size 404.625x360 with 1 Axes>"
            ]
          },
          "metadata": {
            "tags": [],
            "needs_background": "light"
          }
        }
      ]
    },
    {
      "cell_type": "markdown",
      "metadata": {
        "id": "RsNAegskmyqU"
      },
      "source": [
        "No gráfico abaixo colocamos mais um atributo , para melhorar a visualização o style, baseado na classe genero, nesse caso onde for masculino ficou uma bolinha azul e feminino um x amarela, é somente para facilitar a visualização(neste caso)."
      ]
    },
    {
      "cell_type": "code",
      "metadata": {
        "colab": {
          "base_uri": "https://localhost:8080/",
          "height": 383
        },
        "id": "EtsOUj-kmzEo",
        "outputId": "d43ebdad-9397-431f-8d47-a6f56f6899ee"
      },
      "source": [
        "sns.relplot(x='custo',y='idade',hue='genero',style='genero',data=plano_saude);"
      ],
      "execution_count": 8,
      "outputs": [
        {
          "output_type": "display_data",
          "data": {
            "image/png": "[encoded data removed]",
            "text/plain": [
              "<Figure size 404.625x360 with 1 Axes>"
            ]
          },
          "metadata": {
            "tags": [],
            "needs_background": "light"
          }
        }
      ]
    },
    {
      "cell_type": "markdown",
      "metadata": {
        "id": "C9_7mabVn2vu"
      },
      "source": [
        "Colocando agora o atributo style como fumante, eu consigo indicar entre os hoens e mulheres quais fumam e quais não fumam.  \r\n",
        "Sendo assim os que permanecem como bolinha fumam e os que são um x não fumam."
      ]
    },
    {
      "cell_type": "code",
      "metadata": {
        "colab": {
          "base_uri": "https://localhost:8080/",
          "height": 383
        },
        "id": "50hznTdHn3kv",
        "outputId": "fa22761f-dcb2-44fb-94a2-c9c97ec158bf"
      },
      "source": [
        "sns.relplot(x='custo',y='idade',hue='genero',style='fumante',data=plano_saude);"
      ],
      "execution_count": 10,
      "outputs": [
        {
          "output_type": "display_data",
          "data": {
            "image/png": "[encoded data removed]",
            "text/plain": [
              "<Figure size 418.125x360 with 1 Axes>"
            ]
          },
          "metadata": {
            "tags": [],
            "needs_background": "light"
          }
        }
      ]
    },
    {
      "cell_type": "markdown",
      "metadata": {
        "id": "yGUfksx9oZwl"
      },
      "source": [
        "Essa variável de tamanho pode ser utilizada nos atributos size e hue para indicar a importancia para aquela pessoa no plano de saude, se é um plano mais caro."
      ]
    },
    {
      "cell_type": "code",
      "metadata": {
        "colab": {
          "base_uri": "https://localhost:8080/",
          "height": 383
        },
        "id": "b9sxxr5ooad7",
        "outputId": "51b2e69c-45c3-430b-933c-c2278819cb79"
      },
      "source": [
        "sns.relplot(x='custo',y='idade',hue='tamanho',data=plano_saude);"
      ],
      "execution_count": 12,
      "outputs": [
        {
          "output_type": "display_data",
          "data": {
            "image/png": "[encoded data removed]",
            "text/plain": [
              "<Figure size 412.5x360 with 1 Axes>"
            ]
          },
          "metadata": {
            "tags": [],
            "needs_background": "light"
          }
        }
      ]
    },
    {
      "cell_type": "code",
      "metadata": {
        "colab": {
          "base_uri": "https://localhost:8080/",
          "height": 383
        },
        "id": "rPB78sbZovsw",
        "outputId": "31a18985-2b82-467c-d2df-664848eee230"
      },
      "source": [
        "sns.relplot(x='custo',y='idade',size='tamanho',data=plano_saude);"
      ],
      "execution_count": 13,
      "outputs": [
        {
          "output_type": "display_data",
          "data": {
            "image/png": "[encoded data removed]",
            "text/plain": [
              "<Figure size 412.5x360 with 1 Axes>"
            ]
          },
          "metadata": {
            "tags": [],
            "needs_background": "light"
          }
        }
      ]
    },
    {
      "cell_type": "code",
      "metadata": {
        "colab": {
          "base_uri": "https://localhost:8080/",
          "height": 383
        },
        "id": "SbGBtG3EpMfF",
        "outputId": "c47e629c-b251-4fe5-efbd-ed174d545b45"
      },
      "source": [
        "sns.relplot(x='custo',y='idade',size='tamanho',sizes=(15,200),data=plano_saude);\r\n",
        "#tamanho personalizado"
      ],
      "execution_count": 14,
      "outputs": [
        {
          "output_type": "display_data",
          "data": {
            "image/png": "[encoded data removed]",
            "text/plain": [
              "<Figure size 412.5x360 with 1 Axes>"
            ]
          },
          "metadata": {
            "tags": [],
            "needs_background": "light"
          }
        }
      ]
    }
  ]
}