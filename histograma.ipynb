{
  "nbformat": 4,
  "nbformat_minor": 0,
  "metadata": {
    "colab": {
      "name": "histograma.ipynb",
      "provenance": [],
      "authorship_tag": "ABX9TyOwOm5dm9fWCCqqXmjrpLxK",
      "include_colab_link": true
    },
    "kernelspec": {
      "name": "python3",
      "display_name": "Python 3"
    }
  },
  "cells": [
    {
      "cell_type": "markdown",
      "metadata": {
        "id": "view-in-github",
        "colab_type": "text"
      },
      "source": [
        "<a href=\"https://colab.research.google.com/github/MagdaSousa/Estudos_Seaborn/blob/main/histograma.ipynb\" target=\"_parent\"><img src=\"https://colab.research.google.com/assets/colab-badge.svg\" alt=\"Open In Colab\"/></a>"
      ]
    },
    {
      "cell_type": "code",
      "metadata": {
        "id": "9vRQ02Wiy7cs"
      },
      "source": [
        "import seaborn as sns\r\n",
        "import pandas as pd\r\n",
        "import numpy as np"
      ],
      "execution_count": 1,
      "outputs": []
    },
    {
      "cell_type": "code",
      "metadata": {
        "colab": {
          "base_uri": "https://localhost:8080/",
          "height": 355
        },
        "id": "6GUQvijzzH0f",
        "outputId": "3203044a-8455-4127-b731-1108d1372b2d"
      },
      "source": [
        "plano_de_saude=pd.read_csv('https://iaexpert.academy/wp-content/uploads/2019/11/plano_saude.csv')\r\n",
        "plano_de_saude"
      ],
      "execution_count": 2,
      "outputs": [
        {
          "output_type": "execute_result",
          "data": {
            "text/html": [
              "<div>\n",
              "<style scoped>\n",
              "    .dataframe tbody tr th:only-of-type {\n",
              "        vertical-align: middle;\n",
              "    }\n",
              "\n",
              "    .dataframe tbody tr th {\n",
              "        vertical-align: top;\n",
              "    }\n",
              "\n",
              "    .dataframe thead th {\n",
              "        text-align: right;\n",
              "    }\n",
              "</style>\n",
              "<table border=\"1\" class=\"dataframe\">\n",
              "  <thead>\n",
              "    <tr style=\"text-align: right;\">\n",
              "      <th></th>\n",
              "      <th>idade</th>\n",
              "      <th>custo</th>\n",
              "      <th>genero</th>\n",
              "      <th>fumante</th>\n",
              "      <th>tamanho</th>\n",
              "    </tr>\n",
              "  </thead>\n",
              "  <tbody>\n",
              "    <tr>\n",
              "      <th>0</th>\n",
              "      <td>18</td>\n",
              "      <td>871</td>\n",
              "      <td>M</td>\n",
              "      <td>Sim</td>\n",
              "      <td>1</td>\n",
              "    </tr>\n",
              "    <tr>\n",
              "      <th>1</th>\n",
              "      <td>23</td>\n",
              "      <td>1132</td>\n",
              "      <td>M</td>\n",
              "      <td>Não</td>\n",
              "      <td>2</td>\n",
              "    </tr>\n",
              "    <tr>\n",
              "      <th>2</th>\n",
              "      <td>28</td>\n",
              "      <td>1242</td>\n",
              "      <td>F</td>\n",
              "      <td>Sim</td>\n",
              "      <td>3</td>\n",
              "    </tr>\n",
              "    <tr>\n",
              "      <th>3</th>\n",
              "      <td>33</td>\n",
              "      <td>1356</td>\n",
              "      <td>F</td>\n",
              "      <td>Sim</td>\n",
              "      <td>2</td>\n",
              "    </tr>\n",
              "    <tr>\n",
              "      <th>4</th>\n",
              "      <td>38</td>\n",
              "      <td>1488</td>\n",
              "      <td>M</td>\n",
              "      <td>Não</td>\n",
              "      <td>1</td>\n",
              "    </tr>\n",
              "    <tr>\n",
              "      <th>5</th>\n",
              "      <td>43</td>\n",
              "      <td>1638</td>\n",
              "      <td>F</td>\n",
              "      <td>Não</td>\n",
              "      <td>3</td>\n",
              "    </tr>\n",
              "    <tr>\n",
              "      <th>6</th>\n",
              "      <td>48</td>\n",
              "      <td>2130</td>\n",
              "      <td>M</td>\n",
              "      <td>Não</td>\n",
              "      <td>1</td>\n",
              "    </tr>\n",
              "    <tr>\n",
              "      <th>7</th>\n",
              "      <td>53</td>\n",
              "      <td>2454</td>\n",
              "      <td>F</td>\n",
              "      <td>Sim</td>\n",
              "      <td>2</td>\n",
              "    </tr>\n",
              "    <tr>\n",
              "      <th>8</th>\n",
              "      <td>58</td>\n",
              "      <td>3066</td>\n",
              "      <td>F</td>\n",
              "      <td>Não</td>\n",
              "      <td>3</td>\n",
              "    </tr>\n",
              "    <tr>\n",
              "      <th>9</th>\n",
              "      <td>63</td>\n",
              "      <td>4090</td>\n",
              "      <td>F</td>\n",
              "      <td>Sim</td>\n",
              "      <td>2</td>\n",
              "    </tr>\n",
              "  </tbody>\n",
              "</table>\n",
              "</div>"
            ],
            "text/plain": [
              "   idade  custo genero fumante  tamanho\n",
              "0     18    871      M     Sim        1\n",
              "1     23   1132      M     Não        2\n",
              "2     28   1242      F     Sim        3\n",
              "3     33   1356      F     Sim        2\n",
              "4     38   1488      M     Não        1\n",
              "5     43   1638      F     Não        3\n",
              "6     48   2130      M     Não        1\n",
              "7     53   2454      F     Sim        2\n",
              "8     58   3066      F     Não        3\n",
              "9     63   4090      F     Sim        2"
            ]
          },
          "metadata": {
            "tags": []
          },
          "execution_count": 2
        }
      ]
    },
    {
      "cell_type": "code",
      "metadata": {
        "colab": {
          "base_uri": "https://localhost:8080/"
        },
        "id": "uVFnBtI4zJ5X",
        "outputId": "395c353a-e261-4901-c8ef-2258d7f58130"
      },
      "source": [
        "x= np.random.normal(size=100)\r\n",
        "x\r\n",
        "#gerando 100 numeros aleatórios, em uma distribuição normal"
      ],
      "execution_count": 3,
      "outputs": [
        {
          "output_type": "execute_result",
          "data": {
            "text/plain": [
              "array([-0.12903798, -0.38728943,  0.34898283,  1.81327205,  0.75332937,\n",
              "       -0.10735213,  0.88644011,  1.1397448 , -1.62863287,  0.37067943,\n",
              "       -1.93378873,  1.25068568, -0.79102523,  1.44309477, -0.30210432,\n",
              "       -0.04810793, -0.5255884 ,  1.67286563, -0.10267669,  0.29438532,\n",
              "        0.36691545,  0.74521762,  0.13923182, -1.20029243, -0.6640415 ,\n",
              "       -0.42986863, -1.3787807 ,  1.09186252, -0.9643672 , -0.96274324,\n",
              "       -0.5332962 , -0.29041632,  2.30700122,  0.40243959, -1.44957052,\n",
              "        0.20990627,  1.84004088,  1.07165817,  0.32723948,  0.17248758,\n",
              "       -0.7063464 ,  1.33026369, -0.4257554 ,  2.54163316,  0.0133798 ,\n",
              "       -0.61418432,  1.82203761,  0.51235999, -0.85139802, -0.70908607,\n",
              "       -0.6273262 , -0.23503511, -1.147352  ,  0.75671456, -0.81828086,\n",
              "        0.3498494 , -0.01410339,  0.10712212, -0.37582515,  0.70389182,\n",
              "       -0.15622519,  1.43722606,  0.287729  ,  0.07680004,  0.33162577,\n",
              "       -1.47863852, -1.04615483, -2.6579574 , -0.12246747,  0.80096033,\n",
              "        0.61453338, -0.36740013, -0.01847111,  1.94621097,  0.19082106,\n",
              "       -0.31176402, -0.7829606 , -0.44067556,  0.98908398,  0.74132914,\n",
              "       -0.65118446,  0.26469629,  0.81047013, -0.1083179 , -0.77374703,\n",
              "        0.21970797, -0.75751004, -0.97325218, -0.15059359, -0.32413925,\n",
              "       -0.64469385, -0.47101797,  1.2587387 , -0.6292259 ,  0.43823324,\n",
              "        1.41450824, -0.31522452,  2.35952857,  0.43374472, -1.55516924])"
            ]
          },
          "metadata": {
            "tags": []
          },
          "execution_count": 3
        }
      ]
    },
    {
      "cell_type": "markdown",
      "metadata": {
        "id": "WEMqGUU01J-1"
      },
      "source": [
        "O histograma faz um agrupamento de valores, ele não coloca um por um dos valores aleatórios, para verificar qual é a distribuição de frequencia"
      ]
    },
    {
      "cell_type": "code",
      "metadata": {
        "colab": {
          "base_uri": "https://localhost:8080/",
          "height": 369
        },
        "id": "GoigAggGzSy9",
        "outputId": "a78ee32f-b203-4de0-b619-78e01be1918a"
      },
      "source": [
        "sns.displot(x,kde=True,rug=False, kind='hist');\r\n",
        "#kde\r\n",
        "#rug\r\n",
        "#hist "
      ],
      "execution_count": 5,
      "outputs": [
        {
          "output_type": "display_data",
          "data": {
            "image/png": "[encoded data removed]",
            "text/plain": [
              "<Figure size 360x360 with 1 Axes>"
            ]
          },
          "metadata": {
            "tags": [],
            "needs_background": "light"
          }
        }
      ]
    },
    {
      "cell_type": "code",
      "metadata": {
        "colab": {
          "base_uri": "https://localhost:8080/",
          "height": 369
        },
        "id": "azqxmU2M0mOH",
        "outputId": "1158c2ce-dc80-4a29-b182-3ae953bf5f28"
      },
      "source": [
        "sns.displot(x,kde=False,rug=True, kind='hist');\r\n",
        "#kde- linha que indica a curva da distribuição\r\n",
        "#rug- coloca os valores no eixo x, no caso os valores gerados aleatóriamente pelo numpy\r\n"
      ],
      "execution_count": 7,
      "outputs": [
        {
          "output_type": "display_data",
          "data": {
            "image/png": "[encoded data removed]",
            "text/plain": [
              "<Figure size 360x360 with 1 Axes>"
            ]
          },
          "metadata": {
            "tags": [],
            "needs_background": "light"
          }
        }
      ]
    },
    {
      "cell_type": "code",
      "metadata": {
        "colab": {
          "base_uri": "https://localhost:8080/",
          "height": 369
        },
        "id": "aMlwk1YDziW8",
        "outputId": "c323d20c-9281-40e0-8255-210c1ed923f4"
      },
      "source": [
        "sns.displot(plano_de_saude['idade'],rug=True);"
      ],
      "execution_count": 9,
      "outputs": [
        {
          "output_type": "display_data",
          "data": {
            "image/png": "[encoded data removed]",
            "text/plain": [
              "<Figure size 360x360 with 1 Axes>"
            ]
          },
          "metadata": {
            "tags": [],
            "needs_background": "light"
          }
        }
      ]
    },
    {
      "cell_type": "code",
      "metadata": {
        "colab": {
          "base_uri": "https://localhost:8080/",
          "height": 369
        },
        "id": "q4a7mSiJzuZH",
        "outputId": "1592438c-ed2c-41f6-f599-c508269f508e"
      },
      "source": [
        "sns.displot(plano_de_saude['custo']);"
      ],
      "execution_count": 10,
      "outputs": [
        {
          "output_type": "display_data",
          "data": {
            "image/png": "[encoded data removed]",
            "text/plain": [
              "<Figure size 360x360 with 1 Axes>"
            ]
          },
          "metadata": {
            "tags": [],
            "needs_background": "light"
          }
        }
      ]
    }
  ]
}